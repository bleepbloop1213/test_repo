{
 "cells": [
  {
   "cell_type": "markdown",
   "id": "de743b39-176b-4a12-91ee-0f058a80edeb",
   "metadata": {},
   "source": [
    "# Data Science Tools and Ecosystem"
   ]
  },
  {
   "cell_type": "markdown",
   "id": "63da4524-3460-4cb8-b14a-8fcd5eaa8f96",
   "metadata": {
    "tags": []
   },
   "source": [
    "## Author: Me"
   ]
  },
  {
   "cell_type": "markdown",
   "id": "9b6db22b-31a0-437e-b7f1-87abf73acefd",
   "metadata": {},
   "source": [
    "In this notebook, Data Science Tools and Ecosystem are summarized."
   ]
  },
  {
   "cell_type": "markdown",
   "id": "2466eba2-8eed-48c7-835a-0e360269121c",
   "metadata": {},
   "source": [
    "Objectives:\n",
    "* List popular languages and libraries\n",
    "* Show a table of popular Data Science tools\n",
    "* Provide examples of arithmetic expressions"
   ]
  },
  {
   "cell_type": "markdown",
   "id": "d7e78286-a667-4e8f-8f13-f58c8f941d31",
   "metadata": {},
   "source": [
    "Some of the popular languages that Data Scientists use are:\n",
    "1) Python\n",
    "2) SQL\n",
    "3) R"
   ]
  },
  {
   "cell_type": "markdown",
   "id": "809107df-c502-43df-a04e-47d64fc885d0",
   "metadata": {},
   "source": [
    "Some of the commonly used libraries used by Data Scientists include:\n",
    "1) Plotly\n",
    "2) scikit-learn\n",
    "3) Pandas\n",
    "4) NumPy\n",
    "5) Matplotlib"
   ]
  },
  {
   "cell_type": "markdown",
   "id": "a7bb5d61-412c-49e8-b563-16c6bd639596",
   "metadata": {
    "tags": []
   },
   "source": [
    "| Data Science Tools |\n",
    "| ------------------- |\n",
    "| RStudio |\n",
    "| JupyterLab/Anaconda |\n",
    "| Google Colaboratory |"
   ]
  },
  {
   "cell_type": "markdown",
   "id": "9f870a8d-2578-49da-943a-6ef4e5c50d7f",
   "metadata": {},
   "source": [
    "### Below are a few examples of evaluating arithmetic expressions in python:"
   ]
  },
  {
   "cell_type": "code",
   "execution_count": 5,
   "id": "5fcc2fd4-c699-4148-abbc-f6441af21b09",
   "metadata": {
    "tags": []
   },
   "outputs": [
    {
     "data": {
      "text/plain": [
       "17"
      ]
     },
     "execution_count": 5,
     "metadata": {},
     "output_type": "execute_result"
    }
   ],
   "source": [
    "#This is a simple arithmetic expression to multiply then add integers\n",
    "(3*4)+5"
   ]
  },
  {
   "cell_type": "code",
   "execution_count": 7,
   "id": "7d06ce63-bd7b-4056-8ede-77262edba076",
   "metadata": {
    "tags": []
   },
   "outputs": [
    {
     "data": {
      "text/plain": [
       "3.33"
      ]
     },
     "execution_count": 7,
     "metadata": {},
     "output_type": "execute_result"
    }
   ],
   "source": [
    "#This will convert 200 minutes to hours by dividing by 60\n",
    "round(200/60,2)"
   ]
  },
  {
   "cell_type": "code",
   "execution_count": null,
   "id": "7c9af4e9-d73d-4ea9-8510-d4b8a44dfce7",
   "metadata": {},
   "outputs": [],
   "source": []
  }
 ],
 "metadata": {
  "kernelspec": {
   "display_name": "Python",
   "language": "python",
   "name": "conda-env-python-py"
  },
  "language_info": {
   "codemirror_mode": {
    "name": "ipython",
    "version": 3
   },
   "file_extension": ".py",
   "mimetype": "text/x-python",
   "name": "python",
   "nbconvert_exporter": "python",
   "pygments_lexer": "ipython3",
   "version": "3.7.12"
  }
 },
 "nbformat": 4,
 "nbformat_minor": 5
}
